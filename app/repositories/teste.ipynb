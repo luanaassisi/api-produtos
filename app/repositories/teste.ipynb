{
 "cells": [
  {
   "cell_type": "code",
   "execution_count": 14,
   "metadata": {},
   "outputs": [
    {
     "data": {
      "text/plain": [
       "[{'id': 0, 'nome': 'Produto 0', 'preco': 4.5},\n",
       " {'id': 1, 'nome': 'Produto 1', 'preco': 5.58},\n",
       " {'id': 2, 'nome': 'Produto 2', 'preco': 0.32},\n",
       " {'id': 3, 'nome': 'Produto 3', 'preco': 7.01},\n",
       " {'id': 4, 'nome': 'Produto 4', 'preco': 5.06},\n",
       " {'id': 5, 'nome': 'Produto 5', 'preco': 4.23},\n",
       " {'id': 6, 'nome': 'Produto 6', 'preco': 4.48},\n",
       " {'id': 7, 'nome': 'Produto 7', 'preco': 0.97},\n",
       " {'id': 8, 'nome': 'Produto 8', 'preco': 0.9},\n",
       " {'id': 9, 'nome': 'Produto 9', 'preco': 6.93},\n",
       " {'id': 10, 'nome': 'Produto 10', 'preco': 5.74},\n",
       " {'id': 11, 'nome': 'Produto 11', 'preco': 4.3},\n",
       " {'id': 12, 'nome': 'Produto 12', 'preco': 2.93},\n",
       " {'id': 13, 'nome': 'Produto 13', 'preco': 6.4},\n",
       " {'id': 14, 'nome': 'Produto 14', 'preco': 4.56},\n",
       " {'id': 15, 'nome': 'Produto 15', 'preco': 1.09},\n",
       " {'id': 16, 'nome': 'Produto 16', 'preco': 8.04},\n",
       " {'id': 17, 'nome': 'Produto 17', 'preco': 4.33},\n",
       " {'id': 18, 'nome': 'Produto 18', 'preco': 4.49},\n",
       " {'id': 19, 'nome': 'Produto 19', 'preco': 3.97},\n",
       " {'id': 20, 'nome': 'Produto 20', 'preco': 7.41},\n",
       " {'id': 21, 'nome': 'Produto 21', 'preco': 7.72},\n",
       " {'id': 22, 'nome': 'Produto 22', 'preco': 0.57},\n",
       " {'id': 23, 'nome': 'Produto 23', 'preco': 2.51},\n",
       " {'id': 24, 'nome': 'Produto 24', 'preco': 6.14},\n",
       " {'id': 25, 'nome': 'Produto 25', 'preco': 2.4},\n",
       " {'id': 26, 'nome': 'Produto 26', 'preco': 5.11},\n",
       " {'id': 27, 'nome': 'Produto 27', 'preco': 4.67},\n",
       " {'id': 28, 'nome': 'Produto 28', 'preco': 7.02},\n",
       " {'id': 29, 'nome': 'Produto 29', 'preco': 4.45},\n",
       " {'id': 30, 'nome': 'Produto 30', 'preco': 1.7},\n",
       " {'id': 31, 'nome': 'Produto 31', 'preco': 6.07},\n",
       " {'id': 32, 'nome': 'Produto 32', 'preco': 4.65},\n",
       " {'id': 33, 'nome': 'Produto 33', 'preco': 4.35},\n",
       " {'id': 34, 'nome': 'Produto 34', 'preco': 3.76},\n",
       " {'id': 35, 'nome': 'Produto 35', 'preco': 6.65},\n",
       " {'id': 36, 'nome': 'Produto 36', 'preco': 0.85},\n",
       " {'id': 37, 'nome': 'Produto 37', 'preco': 0.07},\n",
       " {'id': 38, 'nome': 'Produto 38', 'preco': 7.14},\n",
       " {'id': 39, 'nome': 'Produto 39', 'preco': 0.47},\n",
       " {'id': 40, 'nome': 'Produto 40', 'preco': 8.04},\n",
       " {'id': 41, 'nome': 'Produto 41', 'preco': 0.57},\n",
       " {'id': 42, 'nome': 'Produto 42', 'preco': 2.39},\n",
       " {'id': 43, 'nome': 'Produto 43', 'preco': 8.66},\n",
       " {'id': 44, 'nome': 'Produto 44', 'preco': 5.7},\n",
       " {'id': 45, 'nome': 'Produto 45', 'preco': 7.5},\n",
       " {'id': 46, 'nome': 'Produto 46', 'preco': 4.7},\n",
       " {'id': 47, 'nome': 'Produto 47', 'preco': 8.89},\n",
       " {'id': 48, 'nome': 'Produto 48', 'preco': 5.9},\n",
       " {'id': 49, 'nome': 'Produto 49', 'preco': 1.7},\n",
       " {'id': 50, 'nome': 'Produto 50', 'preco': 7.26},\n",
       " {'id': 51, 'nome': 'Produto 51', 'preco': 0.84},\n",
       " {'id': 52, 'nome': 'Produto 52', 'preco': 6.98},\n",
       " {'id': 53, 'nome': 'Produto 53', 'preco': 0.58},\n",
       " {'id': 54, 'nome': 'Produto 54', 'preco': 6.3},\n",
       " {'id': 55, 'nome': 'Produto 55', 'preco': 1.4},\n",
       " {'id': 56, 'nome': 'Produto 56', 'preco': 3.11},\n",
       " {'id': 57, 'nome': 'Produto 57', 'preco': 1.32},\n",
       " {'id': 58, 'nome': 'Produto 58', 'preco': 7.25},\n",
       " {'id': 59, 'nome': 'Produto 59', 'preco': 4.77},\n",
       " {'id': 60, 'nome': 'Produto 60', 'preco': 7.85},\n",
       " {'id': 61, 'nome': 'Produto 61', 'preco': 6.26},\n",
       " {'id': 62, 'nome': 'Produto 62', 'preco': 3.27},\n",
       " {'id': 63, 'nome': 'Produto 63', 'preco': 5.29},\n",
       " {'id': 64, 'nome': 'Produto 64', 'preco': 7.52},\n",
       " {'id': 65, 'nome': 'Produto 65', 'preco': 4.77},\n",
       " {'id': 66, 'nome': 'Produto 66', 'preco': 2.46},\n",
       " {'id': 67, 'nome': 'Produto 67', 'preco': 5.34},\n",
       " {'id': 68, 'nome': 'Produto 68', 'preco': 1.62},\n",
       " {'id': 69, 'nome': 'Produto 69', 'preco': 1.58},\n",
       " {'id': 70, 'nome': 'Produto 70', 'preco': 1.84},\n",
       " {'id': 71, 'nome': 'Produto 71', 'preco': 2.97},\n",
       " {'id': 72, 'nome': 'Produto 72', 'preco': 0.96},\n",
       " {'id': 73, 'nome': 'Produto 73', 'preco': 6.21},\n",
       " {'id': 74, 'nome': 'Produto 74', 'preco': 4.0},\n",
       " {'id': 75, 'nome': 'Produto 75', 'preco': 0.17},\n",
       " {'id': 76, 'nome': 'Produto 76', 'preco': 8.67},\n",
       " {'id': 77, 'nome': 'Produto 77', 'preco': 0.68},\n",
       " {'id': 78, 'nome': 'Produto 78', 'preco': 3.35},\n",
       " {'id': 79, 'nome': 'Produto 79', 'preco': 7.54},\n",
       " {'id': 80, 'nome': 'Produto 80', 'preco': 3.02},\n",
       " {'id': 81, 'nome': 'Produto 81', 'preco': 6.7},\n",
       " {'id': 82, 'nome': 'Produto 82', 'preco': 2.96},\n",
       " {'id': 83, 'nome': 'Produto 83', 'preco': 3.11},\n",
       " {'id': 84, 'nome': 'Produto 84', 'preco': 4.01},\n",
       " {'id': 85, 'nome': 'Produto 85', 'preco': 8.35},\n",
       " {'id': 86, 'nome': 'Produto 86', 'preco': 7.63},\n",
       " {'id': 87, 'nome': 'Produto 87', 'preco': 0.09},\n",
       " {'id': 88, 'nome': 'Produto 88', 'preco': 8.53},\n",
       " {'id': 89, 'nome': 'Produto 89', 'preco': 7.99},\n",
       " {'id': 90, 'nome': 'Produto 90', 'preco': 2.56},\n",
       " {'id': 91, 'nome': 'Produto 91', 'preco': 4.83},\n",
       " {'id': 92, 'nome': 'Produto 92', 'preco': 0.49},\n",
       " {'id': 93, 'nome': 'Produto 93', 'preco': 3.29},\n",
       " {'id': 94, 'nome': 'Produto 94', 'preco': 4.45},\n",
       " {'id': 95, 'nome': 'Produto 95', 'preco': 4.83},\n",
       " {'id': 96, 'nome': 'Produto 96', 'preco': 4.9},\n",
       " {'id': 97, 'nome': 'Produto 97', 'preco': 8.94},\n",
       " {'id': 98, 'nome': 'Produto 98', 'preco': 7.76},\n",
       " {'id': 99, 'nome': 'Produto 99', 'preco': 8.93}]"
      ]
     },
     "execution_count": 14,
     "metadata": {},
     "output_type": "execute_result"
    }
   ],
   "source": [
    "from random import uniform\n",
    "\n",
    "\n",
    "resultado = [ {\"id\": i, \"nome\": f\"Produto {i}\", \"preco\": round(uniform(0,9), 2)} for i in range(100)]\n",
    "resultado"
   ]
  },
  {
   "cell_type": "code",
   "execution_count": 12,
   "metadata": {},
   "outputs": [
    {
     "name": "stdout",
     "output_type": "stream",
     "text": [
      "1.11\n"
     ]
    }
   ],
   "source": [
    "from random import uniform\n",
    "print(round(uniform(0,9), 2))"
   ]
  },
  {
   "cell_type": "code",
   "execution_count": 2,
   "metadata": {},
   "outputs": [],
   "source": [
    "resultado = []\n",
    "for i in range(10):\n",
    "    resultado.append(i)"
   ]
  },
  {
   "cell_type": "code",
   "execution_count": 3,
   "metadata": {},
   "outputs": [
    {
     "name": "stdout",
     "output_type": "stream",
     "text": [
      "[0, 1, 2, 3, 4, 5, 6, 7, 8, 9]\n"
     ]
    }
   ],
   "source": [
    "print(resultado)"
   ]
  },
  {
   "cell_type": "code",
   "execution_count": 4,
   "metadata": {},
   "outputs": [],
   "source": [
    "dicionario = {\n",
    "    '1':'A', '2':'B'\n",
    "}"
   ]
  },
  {
   "cell_type": "code",
   "execution_count": 8,
   "metadata": {},
   "outputs": [
    {
     "name": "stdout",
     "output_type": "stream",
     "text": [
      "('1', 'A')\n",
      "('2', 'B')\n"
     ]
    }
   ],
   "source": [
    "for chave, valor in dicionario.items():\n",
    "    print(item)"
   ]
  },
  {
   "cell_type": "code",
   "execution_count": 29,
   "metadata": {},
   "outputs": [],
   "source": [
    "from random import uniform\n",
    "\n",
    "\n",
    "class ProdutosRepository:\n",
    "    def __init__(self):\n",
    "\n",
    "        self.produtos = [{\"id\": str(i), \"nome\": f\"Produto {i}\", \"preco\": str(round(uniform(0,9), 2))} \n",
    "                         for i in range(100)]\n",
    "\n",
    "    def obter_todos_produtos(self):\n",
    "        return self.produtos\n",
    "    \n",
    "    def obter_produto_especifico(self, produto_id: str):\n",
    "        for produto in self.produtos:\n",
    "            if produto['id'] == produto_id:\n",
    "                return produto\n",
    "            \n",
    "    def criar_produto(self, dados_produtos: dict):\n",
    "        lista_de_ids = []\n",
    "        for produto in self.produtos:\n",
    "            lista_de_ids.append(produto['id'])\n",
    "        \n",
    "        ultimo_id = max(lista_de_ids)\n",
    "        novo_id = int(ultimo_id) + 1\n",
    "\n",
    "        novo_produto = {\n",
    "            'id': str(novo_id),\n",
    "            'nome': dados_produtos['nome'],\n",
    "            'preco': dados_produtos['preco']\n",
    "        }\n",
    "\n",
    "        self.produtos.append(novo_produto)\n",
    "        \n",
    "        return novo_produto\n",
    "\n",
    "    def alterar_produto(self, dados_produto: dict):\n",
    "        for produto in self.produtos:\n",
    "            if produto['id'] == dados_produto['id']:\n",
    "                produto['nome'] = dados_produto['nome']\n",
    "                produto['preco'] = dados_produto['preco']\n",
    "                return produto\n",
    "    \n",
    "    def remover_produto(self, produto_id: str):\n",
    "        for produto in self.produtos:\n",
    "            if produto['id'] == produto_id:\n",
    "                self.produtos.remove(produto)\n",
    "                \n",
    "                return produto"
   ]
  },
  {
   "cell_type": "code",
   "execution_count": 30,
   "metadata": {},
   "outputs": [],
   "source": [
    "teste = ProdutosRepository()"
   ]
  },
  {
   "cell_type": "code",
   "execution_count": 36,
   "metadata": {},
   "outputs": [
    {
     "data": {
      "text/plain": [
       "{'id': '3', 'nome': 'teste alterar', 'preco': '5.00'}"
      ]
     },
     "execution_count": 36,
     "metadata": {},
     "output_type": "execute_result"
    }
   ],
   "source": [
    "teste.alterar_produto(\n",
    "    {'id': '3', 'nome': 'teste alterar', 'preco': '5.00'}\n",
    ")"
   ]
  },
  {
   "cell_type": "code",
   "execution_count": 34,
   "metadata": {},
   "outputs": [
    {
     "data": {
      "text/plain": [
       "{'id': '3', 'nome': 'Produto 3', 'preco': '5.15'}"
      ]
     },
     "execution_count": 34,
     "metadata": {},
     "output_type": "execute_result"
    }
   ],
   "source": [
    "teste.obter_produto_especifico('3')"
   ]
  },
  {
   "cell_type": "code",
   "execution_count": 38,
   "metadata": {},
   "outputs": [
    {
     "data": {
      "text/plain": [
       "{'id': '4', 'nome': 'Produto 4', 'preco': '7.04'}"
      ]
     },
     "execution_count": 38,
     "metadata": {},
     "output_type": "execute_result"
    }
   ],
   "source": [
    "teste.remover_produto('4')"
   ]
  },
  {
   "cell_type": "code",
   "execution_count": 35,
   "metadata": {},
   "outputs": [
    {
     "data": {
      "text/plain": [
       "{'id': '100', 'nome': 'um nome diferente', 'preco': '8.65'}"
      ]
     },
     "execution_count": 35,
     "metadata": {},
     "output_type": "execute_result"
    }
   ],
   "source": [
    "teste.criar_produto(\n",
    "    {'nome': 'um nome diferente', 'preco': '8.65'}\n",
    ")"
   ]
  },
  {
   "cell_type": "code",
   "execution_count": 25,
   "metadata": {},
   "outputs": [
    {
     "data": {
      "text/plain": [
       "{'id': '0', 'nome': 'Produto 0', 'preco': '1.97'}"
      ]
     },
     "execution_count": 25,
     "metadata": {},
     "output_type": "execute_result"
    }
   ],
   "source": [
    "teste.remover_produto('0')"
   ]
  },
  {
   "cell_type": "code",
   "execution_count": 39,
   "metadata": {},
   "outputs": [
    {
     "data": {
      "text/plain": [
       "[{'id': '0', 'nome': 'Produto 0', 'preco': '8.58'},\n",
       " {'id': '1', 'nome': 'Produto 1', 'preco': '5.47'},\n",
       " {'id': '2', 'nome': 'Produto 2', 'preco': '7.1'},\n",
       " {'id': '3', 'nome': 'teste alterar', 'preco': '5.00'},\n",
       " {'id': '5', 'nome': 'Produto 5', 'preco': '0.47'},\n",
       " {'id': '6', 'nome': 'Produto 6', 'preco': '5.35'},\n",
       " {'id': '7', 'nome': 'Produto 7', 'preco': '3.67'},\n",
       " {'id': '8', 'nome': 'Produto 8', 'preco': '4.15'},\n",
       " {'id': '9', 'nome': 'Produto 9', 'preco': '3.14'},\n",
       " {'id': '10', 'nome': 'Produto 10', 'preco': '0.18'},\n",
       " {'id': '11', 'nome': 'Produto 11', 'preco': '2.21'},\n",
       " {'id': '12', 'nome': 'Produto 12', 'preco': '5.94'},\n",
       " {'id': '13', 'nome': 'Produto 13', 'preco': '7.99'},\n",
       " {'id': '14', 'nome': 'Produto 14', 'preco': '6.98'},\n",
       " {'id': '15', 'nome': 'Produto 15', 'preco': '8.96'},\n",
       " {'id': '16', 'nome': 'Produto 16', 'preco': '8.12'},\n",
       " {'id': '17', 'nome': 'Produto 17', 'preco': '7.77'},\n",
       " {'id': '18', 'nome': 'Produto 18', 'preco': '2.13'},\n",
       " {'id': '19', 'nome': 'Produto 19', 'preco': '0.48'},\n",
       " {'id': '20', 'nome': 'Produto 20', 'preco': '4.52'},\n",
       " {'id': '21', 'nome': 'Produto 21', 'preco': '5.29'},\n",
       " {'id': '22', 'nome': 'Produto 22', 'preco': '0.89'},\n",
       " {'id': '23', 'nome': 'Produto 23', 'preco': '4.3'},\n",
       " {'id': '24', 'nome': 'Produto 24', 'preco': '2.26'},\n",
       " {'id': '25', 'nome': 'Produto 25', 'preco': '2.53'},\n",
       " {'id': '26', 'nome': 'Produto 26', 'preco': '6.7'},\n",
       " {'id': '27', 'nome': 'Produto 27', 'preco': '7.07'},\n",
       " {'id': '28', 'nome': 'Produto 28', 'preco': '8.59'},\n",
       " {'id': '29', 'nome': 'Produto 29', 'preco': '1.98'},\n",
       " {'id': '30', 'nome': 'Produto 30', 'preco': '6.38'},\n",
       " {'id': '31', 'nome': 'Produto 31', 'preco': '0.43'},\n",
       " {'id': '32', 'nome': 'Produto 32', 'preco': '1.6'},\n",
       " {'id': '33', 'nome': 'Produto 33', 'preco': '7.22'},\n",
       " {'id': '34', 'nome': 'Produto 34', 'preco': '6.71'},\n",
       " {'id': '35', 'nome': 'Produto 35', 'preco': '8.76'},\n",
       " {'id': '36', 'nome': 'Produto 36', 'preco': '6.28'},\n",
       " {'id': '37', 'nome': 'Produto 37', 'preco': '1.7'},\n",
       " {'id': '38', 'nome': 'Produto 38', 'preco': '2.35'},\n",
       " {'id': '39', 'nome': 'Produto 39', 'preco': '1.02'},\n",
       " {'id': '40', 'nome': 'Produto 40', 'preco': '3.42'},\n",
       " {'id': '41', 'nome': 'Produto 41', 'preco': '8.03'},\n",
       " {'id': '42', 'nome': 'Produto 42', 'preco': '8.99'},\n",
       " {'id': '43', 'nome': 'Produto 43', 'preco': '8.36'},\n",
       " {'id': '44', 'nome': 'Produto 44', 'preco': '3.61'},\n",
       " {'id': '45', 'nome': 'Produto 45', 'preco': '6.41'},\n",
       " {'id': '46', 'nome': 'Produto 46', 'preco': '6.9'},\n",
       " {'id': '47', 'nome': 'Produto 47', 'preco': '2.98'},\n",
       " {'id': '48', 'nome': 'Produto 48', 'preco': '3.17'},\n",
       " {'id': '49', 'nome': 'Produto 49', 'preco': '3.81'},\n",
       " {'id': '50', 'nome': 'Produto 50', 'preco': '1.07'},\n",
       " {'id': '51', 'nome': 'Produto 51', 'preco': '6.43'},\n",
       " {'id': '52', 'nome': 'Produto 52', 'preco': '5.09'},\n",
       " {'id': '53', 'nome': 'Produto 53', 'preco': '8.94'},\n",
       " {'id': '54', 'nome': 'Produto 54', 'preco': '1.55'},\n",
       " {'id': '55', 'nome': 'Produto 55', 'preco': '8.5'},\n",
       " {'id': '56', 'nome': 'Produto 56', 'preco': '4.78'},\n",
       " {'id': '57', 'nome': 'Produto 57', 'preco': '7.31'},\n",
       " {'id': '58', 'nome': 'Produto 58', 'preco': '4.98'},\n",
       " {'id': '59', 'nome': 'Produto 59', 'preco': '6.53'},\n",
       " {'id': '60', 'nome': 'Produto 60', 'preco': '8.66'},\n",
       " {'id': '61', 'nome': 'Produto 61', 'preco': '3.92'},\n",
       " {'id': '62', 'nome': 'Produto 62', 'preco': '7.83'},\n",
       " {'id': '63', 'nome': 'Produto 63', 'preco': '6.67'},\n",
       " {'id': '64', 'nome': 'Produto 64', 'preco': '4.29'},\n",
       " {'id': '65', 'nome': 'Produto 65', 'preco': '8.73'},\n",
       " {'id': '66', 'nome': 'Produto 66', 'preco': '0.07'},\n",
       " {'id': '67', 'nome': 'Produto 67', 'preco': '3.26'},\n",
       " {'id': '68', 'nome': 'Produto 68', 'preco': '8.86'},\n",
       " {'id': '69', 'nome': 'Produto 69', 'preco': '5.29'},\n",
       " {'id': '70', 'nome': 'Produto 70', 'preco': '4.43'},\n",
       " {'id': '71', 'nome': 'Produto 71', 'preco': '6.03'},\n",
       " {'id': '72', 'nome': 'Produto 72', 'preco': '2.78'},\n",
       " {'id': '73', 'nome': 'Produto 73', 'preco': '2.13'},\n",
       " {'id': '74', 'nome': 'Produto 74', 'preco': '4.59'},\n",
       " {'id': '75', 'nome': 'Produto 75', 'preco': '7.55'},\n",
       " {'id': '76', 'nome': 'Produto 76', 'preco': '0.32'},\n",
       " {'id': '77', 'nome': 'Produto 77', 'preco': '1.2'},\n",
       " {'id': '78', 'nome': 'Produto 78', 'preco': '2.92'},\n",
       " {'id': '79', 'nome': 'Produto 79', 'preco': '7.67'},\n",
       " {'id': '80', 'nome': 'Produto 80', 'preco': '2.64'},\n",
       " {'id': '81', 'nome': 'Produto 81', 'preco': '8.06'},\n",
       " {'id': '82', 'nome': 'Produto 82', 'preco': '4.73'},\n",
       " {'id': '83', 'nome': 'Produto 83', 'preco': '1.96'},\n",
       " {'id': '84', 'nome': 'Produto 84', 'preco': '3.74'},\n",
       " {'id': '85', 'nome': 'Produto 85', 'preco': '3.32'},\n",
       " {'id': '86', 'nome': 'Produto 86', 'preco': '0.85'},\n",
       " {'id': '87', 'nome': 'Produto 87', 'preco': '3.03'},\n",
       " {'id': '88', 'nome': 'Produto 88', 'preco': '6.78'},\n",
       " {'id': '89', 'nome': 'Produto 89', 'preco': '0.01'},\n",
       " {'id': '90', 'nome': 'Produto 90', 'preco': '4.49'},\n",
       " {'id': '91', 'nome': 'Produto 91', 'preco': '2.77'},\n",
       " {'id': '92', 'nome': 'Produto 92', 'preco': '7.4'},\n",
       " {'id': '93', 'nome': 'Produto 93', 'preco': '7.34'},\n",
       " {'id': '94', 'nome': 'Produto 94', 'preco': '1.25'},\n",
       " {'id': '95', 'nome': 'Produto 95', 'preco': '4.72'},\n",
       " {'id': '96', 'nome': 'Produto 96', 'preco': '8.98'},\n",
       " {'id': '97', 'nome': 'Produto 97', 'preco': '5.27'},\n",
       " {'id': '98', 'nome': 'Produto 98', 'preco': '0.65'},\n",
       " {'id': '99', 'nome': 'Produto 99', 'preco': '7.98'},\n",
       " {'id': '100', 'nome': 'um nome diferente', 'preco': '8.65'}]"
      ]
     },
     "execution_count": 39,
     "metadata": {},
     "output_type": "execute_result"
    }
   ],
   "source": [
    "teste.produtos"
   ]
  },
  {
   "cell_type": "code",
   "execution_count": 28,
   "metadata": {},
   "outputs": [
    {
     "data": {
      "text/plain": [
       "'3'"
      ]
     },
     "execution_count": 28,
     "metadata": {},
     "output_type": "execute_result"
    }
   ],
   "source": [
    "max(['1','2','3'])"
   ]
  },
  {
   "cell_type": "code",
   "execution_count": 40,
   "metadata": {},
   "outputs": [],
   "source": [
    "dicionario =  {'nome': 'Produto 96', 'preco': '8.98'}"
   ]
  },
  {
   "cell_type": "code",
   "execution_count": 41,
   "metadata": {},
   "outputs": [
    {
     "data": {
      "text/plain": [
       "False"
      ]
     },
     "execution_count": 41,
     "metadata": {},
     "output_type": "execute_result"
    }
   ],
   "source": [
    "'i' in dicionario "
   ]
  },
  {
   "cell_type": "code",
   "execution_count": 43,
   "metadata": {},
   "outputs": [
    {
     "data": {
      "text/plain": [
       "True"
      ]
     },
     "execution_count": 43,
     "metadata": {},
     "output_type": "execute_result"
    }
   ],
   "source": [
    "'nome' in dicionario"
   ]
  },
  {
   "cell_type": "code",
   "execution_count": 17,
   "metadata": {},
   "outputs": [],
   "source": [
    "from random import uniform\n",
    "\n",
    "lista_produtos = []\n",
    "for i in range(100):\n",
    "    lista_produtos.append({\"id\": i, \"nome\": f\"produto {i}\", \"preco\": str(round(uniform(0,9), 2))})"
   ]
  },
  {
   "cell_type": "code",
   "execution_count": 18,
   "metadata": {},
   "outputs": [
    {
     "data": {
      "text/plain": [
       "[{'id': 0, 'nome': 'produto0', 'preco': '1.1'},\n",
       " {'id': 1, 'nome': 'produto1', 'preco': '8.14'},\n",
       " {'id': 2, 'nome': 'produto2', 'preco': '3.36'},\n",
       " {'id': 3, 'nome': 'produto3', 'preco': '1.82'},\n",
       " {'id': 4, 'nome': 'produto4', 'preco': '3.58'},\n",
       " {'id': 5, 'nome': 'produto5', 'preco': '4.61'},\n",
       " {'id': 6, 'nome': 'produto6', 'preco': '8.81'},\n",
       " {'id': 7, 'nome': 'produto7', 'preco': '0.94'},\n",
       " {'id': 8, 'nome': 'produto8', 'preco': '6.39'},\n",
       " {'id': 9, 'nome': 'produto9', 'preco': '0.33'},\n",
       " {'id': 10, 'nome': 'produto10', 'preco': '3.68'},\n",
       " {'id': 11, 'nome': 'produto11', 'preco': '1.6'},\n",
       " {'id': 12, 'nome': 'produto12', 'preco': '5.15'},\n",
       " {'id': 13, 'nome': 'produto13', 'preco': '1.14'},\n",
       " {'id': 14, 'nome': 'produto14', 'preco': '8.49'},\n",
       " {'id': 15, 'nome': 'produto15', 'preco': '8.04'},\n",
       " {'id': 16, 'nome': 'produto16', 'preco': '0.63'},\n",
       " {'id': 17, 'nome': 'produto17', 'preco': '0.41'},\n",
       " {'id': 18, 'nome': 'produto18', 'preco': '4.34'},\n",
       " {'id': 19, 'nome': 'produto19', 'preco': '7.95'},\n",
       " {'id': 20, 'nome': 'produto20', 'preco': '1.7'},\n",
       " {'id': 21, 'nome': 'produto21', 'preco': '8.32'},\n",
       " {'id': 22, 'nome': 'produto22', 'preco': '3.38'},\n",
       " {'id': 23, 'nome': 'produto23', 'preco': '7.08'},\n",
       " {'id': 24, 'nome': 'produto24', 'preco': '2.09'},\n",
       " {'id': 25, 'nome': 'produto25', 'preco': '0.49'},\n",
       " {'id': 26, 'nome': 'produto26', 'preco': '6.58'},\n",
       " {'id': 27, 'nome': 'produto27', 'preco': '8.95'},\n",
       " {'id': 28, 'nome': 'produto28', 'preco': '3.4'},\n",
       " {'id': 29, 'nome': 'produto29', 'preco': '0.87'},\n",
       " {'id': 30, 'nome': 'produto30', 'preco': '8.68'},\n",
       " {'id': 31, 'nome': 'produto31', 'preco': '2.65'},\n",
       " {'id': 32, 'nome': 'produto32', 'preco': '0.27'},\n",
       " {'id': 33, 'nome': 'produto33', 'preco': '6.47'},\n",
       " {'id': 34, 'nome': 'produto34', 'preco': '0.89'},\n",
       " {'id': 35, 'nome': 'produto35', 'preco': '2.81'},\n",
       " {'id': 36, 'nome': 'produto36', 'preco': '1.66'},\n",
       " {'id': 37, 'nome': 'produto37', 'preco': '1.66'},\n",
       " {'id': 38, 'nome': 'produto38', 'preco': '5.04'},\n",
       " {'id': 39, 'nome': 'produto39', 'preco': '7.11'},\n",
       " {'id': 40, 'nome': 'produto40', 'preco': '4.6'},\n",
       " {'id': 41, 'nome': 'produto41', 'preco': '7.01'},\n",
       " {'id': 42, 'nome': 'produto42', 'preco': '3.5'},\n",
       " {'id': 43, 'nome': 'produto43', 'preco': '1.28'},\n",
       " {'id': 44, 'nome': 'produto44', 'preco': '1.94'},\n",
       " {'id': 45, 'nome': 'produto45', 'preco': '8.07'},\n",
       " {'id': 46, 'nome': 'produto46', 'preco': '2.85'},\n",
       " {'id': 47, 'nome': 'produto47', 'preco': '1.37'},\n",
       " {'id': 48, 'nome': 'produto48', 'preco': '2.56'},\n",
       " {'id': 49, 'nome': 'produto49', 'preco': '2.14'},\n",
       " {'id': 50, 'nome': 'produto50', 'preco': '4.86'},\n",
       " {'id': 51, 'nome': 'produto51', 'preco': '2.96'},\n",
       " {'id': 52, 'nome': 'produto52', 'preco': '4.14'},\n",
       " {'id': 53, 'nome': 'produto53', 'preco': '6.15'},\n",
       " {'id': 54, 'nome': 'produto54', 'preco': '1.2'},\n",
       " {'id': 55, 'nome': 'produto55', 'preco': '7.45'},\n",
       " {'id': 56, 'nome': 'produto56', 'preco': '1.13'},\n",
       " {'id': 57, 'nome': 'produto57', 'preco': '6.19'},\n",
       " {'id': 58, 'nome': 'produto58', 'preco': '8.78'},\n",
       " {'id': 59, 'nome': 'produto59', 'preco': '0.16'},\n",
       " {'id': 60, 'nome': 'produto60', 'preco': '3.01'},\n",
       " {'id': 61, 'nome': 'produto61', 'preco': '5.7'},\n",
       " {'id': 62, 'nome': 'produto62', 'preco': '0.36'},\n",
       " {'id': 63, 'nome': 'produto63', 'preco': '7.32'},\n",
       " {'id': 64, 'nome': 'produto64', 'preco': '7.27'},\n",
       " {'id': 65, 'nome': 'produto65', 'preco': '8.68'},\n",
       " {'id': 66, 'nome': 'produto66', 'preco': '2.85'},\n",
       " {'id': 67, 'nome': 'produto67', 'preco': '4.24'},\n",
       " {'id': 68, 'nome': 'produto68', 'preco': '3.08'},\n",
       " {'id': 69, 'nome': 'produto69', 'preco': '1.6'},\n",
       " {'id': 70, 'nome': 'produto70', 'preco': '7.47'},\n",
       " {'id': 71, 'nome': 'produto71', 'preco': '7.12'},\n",
       " {'id': 72, 'nome': 'produto72', 'preco': '5.05'},\n",
       " {'id': 73, 'nome': 'produto73', 'preco': '1.79'},\n",
       " {'id': 74, 'nome': 'produto74', 'preco': '4.52'},\n",
       " {'id': 75, 'nome': 'produto75', 'preco': '5.04'},\n",
       " {'id': 76, 'nome': 'produto76', 'preco': '5.85'},\n",
       " {'id': 77, 'nome': 'produto77', 'preco': '1.17'},\n",
       " {'id': 78, 'nome': 'produto78', 'preco': '8.91'},\n",
       " {'id': 79, 'nome': 'produto79', 'preco': '3.15'},\n",
       " {'id': 80, 'nome': 'produto80', 'preco': '3.57'},\n",
       " {'id': 81, 'nome': 'produto81', 'preco': '3.52'},\n",
       " {'id': 82, 'nome': 'produto82', 'preco': '1.9'},\n",
       " {'id': 83, 'nome': 'produto83', 'preco': '5.69'},\n",
       " {'id': 84, 'nome': 'produto84', 'preco': '1.99'},\n",
       " {'id': 85, 'nome': 'produto85', 'preco': '7.69'},\n",
       " {'id': 86, 'nome': 'produto86', 'preco': '4.93'},\n",
       " {'id': 87, 'nome': 'produto87', 'preco': '5.84'},\n",
       " {'id': 88, 'nome': 'produto88', 'preco': '4.47'},\n",
       " {'id': 89, 'nome': 'produto89', 'preco': '5.79'},\n",
       " {'id': 90, 'nome': 'produto90', 'preco': '1.78'},\n",
       " {'id': 91, 'nome': 'produto91', 'preco': '1.86'},\n",
       " {'id': 92, 'nome': 'produto92', 'preco': '1.81'},\n",
       " {'id': 93, 'nome': 'produto93', 'preco': '8.97'},\n",
       " {'id': 94, 'nome': 'produto94', 'preco': '4.49'},\n",
       " {'id': 95, 'nome': 'produto95', 'preco': '2.68'},\n",
       " {'id': 96, 'nome': 'produto96', 'preco': '5.68'},\n",
       " {'id': 97, 'nome': 'produto97', 'preco': '8.3'},\n",
       " {'id': 98, 'nome': 'produto98', 'preco': '0.63'},\n",
       " {'id': 99, 'nome': 'produto99', 'preco': '8.27'}]"
      ]
     },
     "execution_count": 18,
     "metadata": {},
     "output_type": "execute_result"
    },
    {
     "ename": "",
     "evalue": "",
     "output_type": "error",
     "traceback": [
      "\u001b[1;31mThe Kernel crashed while executing code in the the current cell or a previous cell. Please review the code in the cell(s) to identify a possible cause of the failure. Click <a href='https://aka.ms/vscodeJupyterKernelCrash'>here</a> for more info. View Jupyter <a href='command:jupyter.viewOutput'>log</a> for further details."
     ]
    }
   ],
   "source": [
    "lista_produtos"
   ]
  },
  {
   "cell_type": "code",
   "execution_count": 7,
   "metadata": {},
   "outputs": [
    {
     "data": {
      "text/plain": [
       "False"
      ]
     },
     "execution_count": 7,
     "metadata": {},
     "output_type": "execute_result"
    }
   ],
   "source": [
    "'4.0'.isnumeric()"
   ]
  },
  {
   "cell_type": "code",
   "execution_count": 4,
   "metadata": {},
   "outputs": [],
   "source": [
    "teste = list(range(100))"
   ]
  },
  {
   "cell_type": "code",
   "execution_count": 13,
   "metadata": {},
   "outputs": [
    {
     "data": {
      "text/plain": [
       "[25,\n",
       " 26,\n",
       " 27,\n",
       " 28,\n",
       " 29,\n",
       " 30,\n",
       " 31,\n",
       " 32,\n",
       " 33,\n",
       " 34,\n",
       " 35,\n",
       " 36,\n",
       " 37,\n",
       " 38,\n",
       " 39,\n",
       " 40,\n",
       " 41,\n",
       " 42,\n",
       " 43,\n",
       " 44,\n",
       " 45,\n",
       " 46,\n",
       " 47,\n",
       " 48,\n",
       " 49]"
      ]
     },
     "execution_count": 13,
     "metadata": {},
     "output_type": "execute_result"
    }
   ],
   "source": [
    "\n",
    "offset = 25\n",
    "qtd_linhas_por_pagina = 25\n",
    "teste[offset:offset + qtd_linhas_por_pagina]"
   ]
  },
  {
   "cell_type": "code",
   "execution_count": null,
   "metadata": {},
   "outputs": [],
   "source": [
    "\n",
    "teste[offset:offset + qtd_linhas_por_pagina]"
   ]
  },
  {
   "cell_type": "code",
   "execution_count": 17,
   "metadata": {},
   "outputs": [
    {
     "data": {
      "text/plain": [
       "[10, 11, 12]"
      ]
     },
     "execution_count": 17,
     "metadata": {},
     "output_type": "execute_result"
    }
   ],
   "source": [
    "teste[10:10 + 3]"
   ]
  },
  {
   "cell_type": "code",
   "execution_count": 18,
   "metadata": {},
   "outputs": [],
   "source": [
    "teste = {\"a\": 1}"
   ]
  },
  {
   "cell_type": "code",
   "execution_count": 21,
   "metadata": {},
   "outputs": [
    {
     "ename": "KeyError",
     "evalue": "'b'",
     "output_type": "error",
     "traceback": [
      "\u001b[1;31m---------------------------------------------------------------------------\u001b[0m",
      "\u001b[1;31mKeyError\u001b[0m                                  Traceback (most recent call last)",
      "Cell \u001b[1;32mIn[21], line 1\u001b[0m\n\u001b[1;32m----> 1\u001b[0m \u001b[43mteste\u001b[49m\u001b[43m[\u001b[49m\u001b[38;5;124;43m\"\u001b[39;49m\u001b[38;5;124;43mb\u001b[39;49m\u001b[38;5;124;43m\"\u001b[39;49m\u001b[43m]\u001b[49m\n",
      "\u001b[1;31mKeyError\u001b[0m: 'b'"
     ]
    }
   ],
   "source": [
    "teste[\"b\"]"
   ]
  },
  {
   "cell_type": "code",
   "execution_count": 24,
   "metadata": {},
   "outputs": [
    {
     "name": "stdout",
     "output_type": "stream",
     "text": [
      "3\n"
     ]
    }
   ],
   "source": [
    "print(teste.get(\"b\", 3))"
   ]
  },
  {
   "cell_type": "code",
   "execution_count": 25,
   "metadata": {},
   "outputs": [],
   "source": [
    "import math"
   ]
  },
  {
   "cell_type": "code",
   "execution_count": 27,
   "metadata": {},
   "outputs": [
    {
     "data": {
      "text/plain": [
       "3"
      ]
     },
     "execution_count": 27,
     "metadata": {},
     "output_type": "execute_result"
    }
   ],
   "source": [
    "math.ceil(2.1)"
   ]
  },
  {
   "cell_type": "code",
   "execution_count": 28,
   "metadata": {},
   "outputs": [
    {
     "data": {
      "text/plain": [
       "2"
      ]
     },
     "execution_count": 28,
     "metadata": {},
     "output_type": "execute_result"
    }
   ],
   "source": [
    "math.floor(2.2)"
   ]
  },
  {
   "cell_type": "code",
   "execution_count": 31,
   "metadata": {},
   "outputs": [
    {
     "data": {
      "text/plain": [
       "3"
      ]
     },
     "execution_count": 31,
     "metadata": {},
     "output_type": "execute_result"
    }
   ],
   "source": [
    "round(2.6)"
   ]
  },
  {
   "cell_type": "code",
   "execution_count": 39,
   "metadata": {},
   "outputs": [
    {
     "ename": "ValueError",
     "evalue": "could not convert string to float: 'asf.65'",
     "output_type": "error",
     "traceback": [
      "\u001b[1;31m---------------------------------------------------------------------------\u001b[0m",
      "\u001b[1;31mValueError\u001b[0m                                Traceback (most recent call last)",
      "Cell \u001b[1;32mIn[39], line 1\u001b[0m\n\u001b[1;32m----> 1\u001b[0m \u001b[38;5;28;43mfloat\u001b[39;49m\u001b[43m(\u001b[49m\u001b[38;5;124;43m'\u001b[39;49m\u001b[38;5;124;43masf.65\u001b[39;49m\u001b[38;5;124;43m'\u001b[39;49m\u001b[43m)\u001b[49m\n",
      "\u001b[1;31mValueError\u001b[0m: could not convert string to float: 'asf.65'"
     ]
    }
   ],
   "source": [
    "float('asf.65')"
   ]
  },
  {
   "cell_type": "code",
   "execution_count": 34,
   "metadata": {},
   "outputs": [
    {
     "data": {
      "text/plain": [
       "'23.65'"
      ]
     },
     "execution_count": 34,
     "metadata": {},
     "output_type": "execute_result"
    }
   ],
   "source": [
    "str(23.65)"
   ]
  },
  {
   "cell_type": "code",
   "execution_count": 1,
   "metadata": {},
   "outputs": [
    {
     "data": {
      "text/plain": [
       "2.1"
      ]
     },
     "execution_count": 1,
     "metadata": {},
     "output_type": "execute_result"
    }
   ],
   "source": [
    "float(2.1)"
   ]
  },
  {
   "cell_type": "code",
   "execution_count": 3,
   "metadata": {},
   "outputs": [
    {
     "ename": "ValueError",
     "evalue": "could not convert string to float: '2,1'",
     "output_type": "error",
     "traceback": [
      "\u001b[1;31m---------------------------------------------------------------------------\u001b[0m",
      "\u001b[1;31mValueError\u001b[0m                                Traceback (most recent call last)",
      "Cell \u001b[1;32mIn[3], line 1\u001b[0m\n\u001b[1;32m----> 1\u001b[0m \u001b[38;5;28;43mfloat\u001b[39;49m\u001b[43m(\u001b[49m\u001b[38;5;124;43m\"\u001b[39;49m\u001b[38;5;124;43m2,1\u001b[39;49m\u001b[38;5;124;43m\"\u001b[39;49m\u001b[43m)\u001b[49m\n",
      "\u001b[1;31mValueError\u001b[0m: could not convert string to float: '2,1'"
     ]
    }
   ],
   "source": [
    "float(\"2,1\")"
   ]
  },
  {
   "cell_type": "code",
   "execution_count": null,
   "metadata": {},
   "outputs": [],
   "source": []
  }
 ],
 "metadata": {
  "kernelspec": {
   "display_name": "Python 3",
   "language": "python",
   "name": "python3"
  },
  "language_info": {
   "codemirror_mode": {
    "name": "ipython",
    "version": 3
   },
   "file_extension": ".py",
   "mimetype": "text/x-python",
   "name": "python",
   "nbconvert_exporter": "python",
   "pygments_lexer": "ipython3",
   "version": "3.11.1"
  },
  "orig_nbformat": 4
 },
 "nbformat": 4,
 "nbformat_minor": 2
}
